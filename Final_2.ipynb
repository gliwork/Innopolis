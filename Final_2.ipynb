{
 "cells": [
  {
   "cell_type": "markdown",
   "metadata": {
    "id": "fnE1_J-4dhSR"
   },
   "source": [
    "## Загрузим нужные библиотеки"
   ]
  },
  {
   "cell_type": "code",
   "execution_count": 1,
   "metadata": {
    "id": "uaKzqUxsdjDa"
   },
   "outputs": [
    {
     "name": "stderr",
     "output_type": "stream",
     "text": [
      "<frozen importlib._bootstrap>:219: RuntimeWarning: scipy._lib.messagestream.MessageStream size changed, may indicate binary incompatibility. Expected 56 from C header, got 64 from PyObject\n"
     ]
    }
   ],
   "source": [
    "import pandas as pd\n",
    "import seaborn as sns\n",
    "import matplotlib.pyplot as plt\n",
    "from sklearn.model_selection import train_test_split\n",
    "from sklearn.ensemble import RandomForestClassifier\n",
    "import numpy as np\n",
    "from sklearn.metrics import recall_score\n",
    "%matplotlib inline\n",
    "from tqdm import tqdm\n",
    "from sklearn.model_selection import KFold\n",
    "from sklearn.ensemble import HistGradientBoostingClassifier\n",
    "from sklearn.ensemble import AdaBoostClassifier\n",
    "\n",
    "import imblearn"
   ]
  },
  {
   "cell_type": "code",
   "execution_count": 2,
   "metadata": {
    "colab": {
     "base_uri": "https://localhost:8080/",
     "height": 424
    },
    "id": "JKsM5f-W5p4i",
    "outputId": "6d8b32c9-d2e3-4ae9-a023-154e1838419e"
   },
   "outputs": [],
   "source": [
    "def coordinates(item, start=0):\n",
    "    try:\n",
    "        k = item.find('coordinates\":')\n",
    "        s = item.find('}')\n",
    "        coordinate = item[k+13:s].replace(':','').replace('}','').replace('[','').replace(']','').split(',')\n",
    "        coordinate = list(map(lambda x: float(x), coordinate))\n",
    "        coordinates1=[]\n",
    "\n",
    "\n",
    "        for n in range(start,len(coordinate),2):\n",
    "            coordinates1.append(coordinate[n])\n",
    "\n",
    "    except:\n",
    "        coordinates1 = 0\n",
    "\n",
    "    \n",
    "    return coordinates1"
   ]
  },
  {
   "cell_type": "code",
   "execution_count": 3,
   "metadata": {},
   "outputs": [],
   "source": [
    "def add_data(df):\n",
    "    df = df.reindex(sorted(df.columns), axis=1)\n",
    "    df['.long'] = df['.geo'].map(lambda x: np.mean(coordinates(x,0)))\n",
    "    df['.latit'] = df['.geo'].map(lambda x: np.mean(coordinates(x,1)))\n",
    "    #df['.dist'] = [np.sqrt((row[0]-30)**2+(row[1]-49)**2) for row in df[['.long','.latit']].to_numpy()]\n",
    "    #df['.angle'] = [np.arctanh((row[0]-49)/(row[1]-30)) for row in df[['.long','.latit']].to_numpy()]\n",
    "    df = df.reindex(sorted(df.columns), axis=1)\n",
    "    return df"
   ]
  },
  {
   "cell_type": "code",
   "execution_count": 4,
   "metadata": {},
   "outputs": [],
   "source": [
    "def add_cumulative(df):\n",
    "    df = df.reindex(sorted(df.columns), axis=1)\n",
    "    \n",
    "    s=list(df.columns).index('nd_mean_2021-04-15')\n",
    "    ss = len(df.columns)\n",
    "    #print(s)\n",
    "    df['.start'] = 0\n",
    "    name = '.start'\n",
    "    for column in df.columns[s:ss]: # add crop removal\n",
    "   \n",
    "        new_col = 'xcum_'+column\n",
    "        #print(new_col)\n",
    "        df[new_col] = df[name]+df[column]\n",
    "        name = new_col\n",
    "    df=df.drop('.start', axis = 1)\n",
    "    df = df.reindex(sorted(df.columns), axis=1)\n",
    "    return df"
   ]
  },
  {
   "cell_type": "code",
   "execution_count": 5,
   "metadata": {},
   "outputs": [],
   "source": [
    "def flatten(l):\n",
    "    return [item for sublist in l for item in sublist]"
   ]
  },
  {
   "cell_type": "code",
   "execution_count": 6,
   "metadata": {},
   "outputs": [],
   "source": [
    "def filter_0 (d):\n",
    "    d = d.reindex(sorted(d.columns), axis=1)\n",
    "    s=list(d.columns).index('nd_mean_2021-04-15')+1 \n",
    "    print(s)\n",
    "    x,y = np.where(d.iloc[:,s:-1]==0.)\n",
    "    for i in tqdm(range(len(x))):#\n",
    "        f=d.iloc[x[i],y[i]+s-1]\n",
    "        g=d.iloc[x[i],y[i]+s+1]\n",
    "        z=(f+g)/2.\n",
    "        d.iloc[x[i],y[i]+s] = z\n",
    "\n",
    "    return d"
   ]
  },
  {
   "cell_type": "code",
   "execution_count": 7,
   "metadata": {},
   "outputs": [],
   "source": [
    "def normalize (d):\n",
    "    d = d.reindex(sorted(d.columns), axis=1)\n",
    "    s=list(d.columns).index('nd_mean_2021-04-15')\n",
    "    ss = list(d.columns).index('nd_mean_2021-08-27')+1\n",
    "    print(s)\n",
    "    max = d.iloc[:,s:ss+1].max(axis = 1)\n",
    "    d.iloc[:,s:ss+1] = d.iloc[:,s:ss+1].div(max, axis=0)\n",
    "\n",
    "\n",
    "    return d"
   ]
  },
  {
   "cell_type": "code",
   "execution_count": 8,
   "metadata": {},
   "outputs": [],
   "source": [
    "def filter_0_nan (df):\n",
    "    df = df.reindex(sorted(df.columns), axis=1)\n",
    "    s=list(df.columns).index('nd_mean_2021-04-15')+1 \n",
    "    print(s)\n",
    "    df.iloc[:,s:] = np.where(df.iloc[:,s:]==0., np.nan, df.iloc[:,s:])\n",
    "    \n",
    "    return df"
   ]
  },
  {
   "cell_type": "code",
   "execution_count": 483,
   "metadata": {},
   "outputs": [],
   "source": [
    "#finding difficult stuff\n",
    "def diff_samples_add(df):\n",
    "    X = df.drop(['id','.geo',\"crop\"], axis = 1)#\"id\",, '.long_full', '.latit_full', '7', 'index'\n",
    "    y = df[[\"crop\"]]\n",
    "    \n",
    "    kf = KFold(n_splits=4, shuffle=True)\n",
    "    kf.get_n_splits(X)\n",
    "    ind = []\n",
    "    models = []\n",
    "\n",
    "    #predict = np.zeros((len(y), 7))\n",
    "    for train_index, test_index in kf.split(X):\n",
    "    \n",
    "        X_tr, X_te = X.iloc[train_index], X.iloc[test_index]\n",
    "        y_tr, y_te = y.iloc[train_index], y.iloc[test_index]\n",
    "        #clf1 = HistGradientBoostingClassifier(max_iter=300, max_leaf_nodes=30, l2_regularization = 0.5, learning_rate = 0.1).fit(X_tr, y_tr)#clf1 = HistGradientBoostingClassifier(max_iter=200, max_leaf_nodes=41).fit(X_tr, y_tr)\n",
    "        clf1 = HistGradientBoostingClassifier(max_iter=300, max_leaf_nodes=41).fit(X_tr, y_tr)\n",
    "        models.append(clf1)\n",
    "        #predict += clf1.predict_proba(X_test)\n",
    "        pred = clf1.predict(X_te)\n",
    "        print(clf1,'\\n',recall_score(y_te, pred, average=None, zero_division=0))\n",
    "        ind.append(y_te[y_te.crop!=pred].index)\n",
    "    idx = [item for sublist in ind for item in sublist]\n",
    "    return models, idx\n"
   ]
  },
  {
   "cell_type": "code",
   "execution_count": 482,
   "metadata": {},
   "outputs": [],
   "source": [
    "def running_sum(df, window = 3):\n",
    "    df = df.reindex(sorted(df.columns), axis=1)\n",
    "    window = window\n",
    "    s=list(df.columns).index('nd_mean_2021-04-15')+2\n",
    "    ss = list(df.columns).index('nd_mean_2021-08-27')+1\n",
    "    print(s)\n",
    "    columns = list(map(lambda x: 'run_'+x, df.columns[s:ss]))\n",
    "    df.loc[:,columns] = np.nan_to_num(df.iloc[:,s:ss].rolling(window, center=True,axis=1)\n",
    "                                    .sum())#.iloc[row,:]\n",
    "    return df"
   ]
  },
  {
   "cell_type": "code",
   "execution_count": 11,
   "metadata": {},
   "outputs": [],
   "source": [
    "def intersect(long1,long2,lat1,lat2):\n",
    "    x1,x2 = long1\n",
    "    x3,x4 = long2\n",
    "    y1,y2 = lat1\n",
    "    y3,y4 = lat2\n",
    "    if (x2>=x3 and y2>=y3):\n",
    "        \n",
    "        intersect = np.sqrt((x3-x2)**2 + (y2-y3)**2)\n",
    "        #print(intersect)\n",
    "    else:\n",
    "        intersect = 0\n",
    "    return intersect\n",
    "        \n",
    "    "
   ]
  },
  {
   "cell_type": "code",
   "execution_count": 12,
   "metadata": {},
   "outputs": [],
   "source": [
    "def remove_neg(df):\n",
    "    df = df.reindex(sorted(df.columns), axis=1)\n",
    "    s=list(df.columns).index('nd_mean_2021-04-15')\n",
    "    ss = list(df.columns).index('nd_mean_2021-08-27')\n",
    "    neg = np.where(df.iloc[:, s:ss+1] < 0)\n",
    "    for i in range(len(neg[0])):\n",
    "        df.iloc[neg[0][i],neg[1][i]+s] = abs(df.iloc[neg[0][i],neg[1][i]+s])\n",
    "    return df"
   ]
  },
  {
   "cell_type": "code",
   "execution_count": 13,
   "metadata": {},
   "outputs": [],
   "source": [
    "def correlations_add(df, window = 3):\n",
    "    df = df.reindex(sorted(df.columns), axis=1)\n",
    "    df = df.reset_index(drop=True)\n",
    "    window = window\n",
    "    \n",
    "    h=[0,0,0,0,0,0,0]\n",
    "    s=list(df.columns).index('nd_mean_2021-04-15')\n",
    "    ss = list(df.columns).index('nd_mean_2021-08-27')+1\n",
    "    for i in range(7):\n",
    "        h[i] = df[df.crop == i].iloc[:,s:ss].rolling(window, center=True,axis=1).sum().sum(axis=0)/len(df[df.crop == i])\n",
    "        \n",
    "    for i in range(7):\n",
    "        df['corr_'+str(i)] = 0\n",
    "    for row in tqdm(range(len(df))):\n",
    "        r_sum = np.nan_to_num(df.iloc[:,s:ss].rolling(window, center=True,axis=1)\n",
    "                                    .sum().iloc[row,:])\n",
    "        for i in range(7):\n",
    "            df.loc[row,'corr_'+str(i)] = np.corrcoef((r_sum),np.array(h[i]))[0,1]\n",
    "    return df"
   ]
  },
  {
   "cell_type": "code",
   "execution_count": 26,
   "metadata": {},
   "outputs": [],
   "source": [
    "def add_fake_samples(df,scale=0.0005):\n",
    "    s=list(df.columns).index('nd_mean_2021-04-15')\n",
    "    ss = list(df.columns).index('nd_mean_2021-08-27')+1\n",
    "    df.loc[:,'.latit'] = df.loc[:,'.latit']*np.random.normal(1,0.0005, size=len(df))\n",
    "    df.loc[:,'.long'] = df.loc[:,'.long']*np.random.normal(1,0.0005, size=len(df))\n",
    "    \n",
    "    for i in range(s,ss):\n",
    "        df.iloc[:,i] = df.iloc[:,i]*np.random.normal(1,scale, size=len(df))\n",
    "    return df"
   ]
  },
  {
   "cell_type": "code",
   "execution_count": 416,
   "metadata": {},
   "outputs": [],
   "source": [
    "from sklearn.ensemble import AdaBoostClassifier\n",
    "from sklearn.ensemble import GradientBoostingClassifier, BaggingClassifier\n",
    "from sklearn.linear_model import SGDClassifier\n",
    "from sklearn.svm import SVC\n",
    "from catboost import CatBoostClassifier, Pool\n",
    "\n",
    "def comparison(X, y, X_val):\n",
    "    X=X\n",
    "    y=y\n",
    "    X_val = X_val\n",
    "    X_train, X_test, y_train, y_test = train_test_split(X, y, test_size=0.2, random_state=1)    \n",
    "    model_f = []\n",
    "    pred_full = []\n",
    "    preds = []\n",
    "    models = [\n",
    "                CatBoostClassifier(iterations=300, task_type='CPU', verbose=False),\n",
    "              GradientBoostingClassifier(n_estimators=100, learning_rate=1.0,\n",
    "                        max_depth=1, random_state=0),\n",
    "              HistGradientBoostingClassifier(max_iter=200, max_leaf_nodes=45, random_state = 42)\n",
    "             ]\n",
    "\n",
    "    for i in range(len(models)):\n",
    "        clf = models[i].fit(X_train, y_train)\n",
    "        \n",
    "        pred = clf.predict(X_test)\n",
    "        print(clf,'\\n',recall_score(y_test, pred, average=None, zero_division=0))\n",
    "        model = models[i].fit(X, y)\n",
    "        model_f.append(model)\n",
    "        pred_full.append(model.predict(X_val))\n",
    "        preds.append(recall_score(y_test, pred, average=None, zero_division=0))\n",
    "        \n",
    "        \n",
    "    return model_f, pred_full, preds\n",
    "   \n"
   ]
  },
  {
   "cell_type": "code",
   "execution_count": null,
   "metadata": {},
   "outputs": [],
   "source": [
    "#Загрузка данных"
   ]
  },
  {
   "cell_type": "code",
   "execution_count": null,
   "metadata": {
    "id": "2scLoULoXkT0"
   },
   "outputs": [],
   "source": []
  },
  {
   "cell_type": "code",
   "execution_count": 495,
   "metadata": {},
   "outputs": [],
   "source": [
    "#read data and prepare for re-joining\n",
    "df = pd.read_csv(\"train_dataset_train.csv\")\n",
    "df_test = pd.read_csv('test_dataset_test.csv')\n",
    "df = df.reindex(sorted(df.columns), axis=1)\n",
    "df_test = df_test.reindex(sorted(df_test.columns), axis=1)\n",
    "#remove negative values of NDVI\n",
    "df = remove_neg(df)\n",
    "#add centers of the landplots\n",
    "df = add_data(df)\n",
    "df_test = add_data(df_test)"
   ]
  },
  {
   "cell_type": "code",
   "execution_count": 497,
   "metadata": {},
   "outputs": [
    {
     "data": {
      "image/png": "[encoded data removed]",
      "text/plain": [
       "<Figure size 640x480 with 1 Axes>"
      ]
     },
     "metadata": {},
     "output_type": "display_data"
    }
   ],
   "source": [
    "#visualize locations of the land plots:\n",
    "\n",
    "import matplotlib.pyplot as plt\n",
    "\n",
    "# Create some fake data.\n",
    "x = df['.latit']\n",
    "y = df['.long']\n",
    "#x2 = df_test.iloc[2,5:]\n",
    "#x3 = df_test.iloc[3,5:] 'latit', 'long'\n",
    "\n",
    "fig, (ax1) = plt.subplots(1, 1)\n",
    "fig.suptitle('location')\n",
    "\n",
    "#ax1.plot(x1, '.')\n",
    "#ax1.plot(x2, 'x')\n",
    "#ax1.plot(x3, 'o')\n",
    "\n",
    "plt.scatter(x, y)\n",
    "\n",
    "ax1.set_ylabel('')\n",
    "\n",
    "\n",
    "plt.show()\n"
   ]
  },
  {
   "cell_type": "code",
   "execution_count": 439,
   "metadata": {},
   "outputs": [],
   "source": [
    "df1=add_cumulative(add_data(df1))\n",
    "df_test=add_cumulative(add_data(df_test))"
   ]
  },
  {
   "cell_type": "code",
   "execution_count": 486,
   "metadata": {},
   "outputs": [
    {
     "name": "stderr",
     "output_type": "stream",
     "text": [
      "C:\\miniconda3\\envs\\Python\\lib\\site-packages\\sklearn\\utils\\validation.py:1111: DataConversionWarning: A column-vector y was passed when a 1d array was expected. Please change the shape of y to (n_samples, ), for example using ravel().\n",
      "  y = column_or_1d(y, warn=True)\n"
     ]
    },
    {
     "name": "stdout",
     "output_type": "stream",
     "text": [
      "HistGradientBoostingClassifier(max_iter=300, max_leaf_nodes=41) \n",
      " [0.94857143 1.         0.97826087 1.         0.95321637 1.\n",
      " 0.93296089]\n"
     ]
    },
    {
     "name": "stderr",
     "output_type": "stream",
     "text": [
      "C:\\miniconda3\\envs\\Python\\lib\\site-packages\\sklearn\\utils\\validation.py:1111: DataConversionWarning: A column-vector y was passed when a 1d array was expected. Please change the shape of y to (n_samples, ), for example using ravel().\n",
      "  y = column_or_1d(y, warn=True)\n"
     ]
    },
    {
     "name": "stdout",
     "output_type": "stream",
     "text": [
      "HistGradientBoostingClassifier(max_iter=300, max_leaf_nodes=41) \n",
      " [0.92682927 1.         0.98907104 1.         0.93908629 1.\n",
      " 0.94267516]\n"
     ]
    },
    {
     "name": "stderr",
     "output_type": "stream",
     "text": [
      "C:\\miniconda3\\envs\\Python\\lib\\site-packages\\sklearn\\utils\\validation.py:1111: DataConversionWarning: A column-vector y was passed when a 1d array was expected. Please change the shape of y to (n_samples, ), for example using ravel().\n",
      "  y = column_or_1d(y, warn=True)\n"
     ]
    },
    {
     "name": "stdout",
     "output_type": "stream",
     "text": [
      "HistGradientBoostingClassifier(max_iter=300, max_leaf_nodes=41) \n",
      " [0.93617021 1.         0.96551724 1.         0.9122807  1.\n",
      " 0.95597484]\n"
     ]
    },
    {
     "name": "stderr",
     "output_type": "stream",
     "text": [
      "C:\\miniconda3\\envs\\Python\\lib\\site-packages\\sklearn\\utils\\validation.py:1111: DataConversionWarning: A column-vector y was passed when a 1d array was expected. Please change the shape of y to (n_samples, ), for example using ravel().\n",
      "  y = column_or_1d(y, warn=True)\n"
     ]
    },
    {
     "name": "stdout",
     "output_type": "stream",
     "text": [
      "HistGradientBoostingClassifier(max_iter=300, max_leaf_nodes=41) \n",
      " [0.92462312 1.         0.98076923 1.         0.93854749 1.\n",
      " 0.96491228]\n"
     ]
    },
    {
     "name": "stderr",
     "output_type": "stream",
     "text": [
      "C:\\miniconda3\\envs\\Python\\lib\\site-packages\\sklearn\\utils\\validation.py:1111: DataConversionWarning: A column-vector y was passed when a 1d array was expected. Please change the shape of y to (n_samples, ), for example using ravel().\n",
      "  y = column_or_1d(y, warn=True)\n"
     ]
    },
    {
     "name": "stdout",
     "output_type": "stream",
     "text": [
      "HistGradientBoostingClassifier(max_iter=300, max_leaf_nodes=41) \n",
      " [0.97309417 1.         0.98130841 1.         1.         1.\n",
      " 0.98461538]\n"
     ]
    },
    {
     "name": "stderr",
     "output_type": "stream",
     "text": [
      "C:\\miniconda3\\envs\\Python\\lib\\site-packages\\sklearn\\utils\\validation.py:1111: DataConversionWarning: A column-vector y was passed when a 1d array was expected. Please change the shape of y to (n_samples, ), for example using ravel().\n",
      "  y = column_or_1d(y, warn=True)\n"
     ]
    },
    {
     "name": "stdout",
     "output_type": "stream",
     "text": [
      "HistGradientBoostingClassifier(max_iter=300, max_leaf_nodes=41) \n",
      " [0.98654709 0.99465241 1.         1.         0.99537037 1.\n",
      " 0.96650718]\n"
     ]
    },
    {
     "name": "stderr",
     "output_type": "stream",
     "text": [
      "C:\\miniconda3\\envs\\Python\\lib\\site-packages\\sklearn\\utils\\validation.py:1111: DataConversionWarning: A column-vector y was passed when a 1d array was expected. Please change the shape of y to (n_samples, ), for example using ravel().\n",
      "  y = column_or_1d(y, warn=True)\n"
     ]
    },
    {
     "name": "stdout",
     "output_type": "stream",
     "text": [
      "HistGradientBoostingClassifier(max_iter=300, max_leaf_nodes=41) \n",
      " [0.9874477  0.99450549 0.99009901 1.         0.99557522 1.\n",
      " 0.98969072]\n"
     ]
    },
    {
     "name": "stderr",
     "output_type": "stream",
     "text": [
      "C:\\miniconda3\\envs\\Python\\lib\\site-packages\\sklearn\\utils\\validation.py:1111: DataConversionWarning: A column-vector y was passed when a 1d array was expected. Please change the shape of y to (n_samples, ), for example using ravel().\n",
      "  y = column_or_1d(y, warn=True)\n"
     ]
    },
    {
     "name": "stdout",
     "output_type": "stream",
     "text": [
      "HistGradientBoostingClassifier(max_iter=300, max_leaf_nodes=41) \n",
      " [0.99141631 1.         0.99393939 1.         0.99591837 1.\n",
      " 0.96078431]\n"
     ]
    },
    {
     "name": "stderr",
     "output_type": "stream",
     "text": [
      "C:\\miniconda3\\envs\\Python\\lib\\site-packages\\sklearn\\utils\\validation.py:1111: DataConversionWarning: A column-vector y was passed when a 1d array was expected. Please change the shape of y to (n_samples, ), for example using ravel().\n",
      "  y = column_or_1d(y, warn=True)\n"
     ]
    },
    {
     "name": "stdout",
     "output_type": "stream",
     "text": [
      "HistGradientBoostingClassifier(max_iter=300, max_leaf_nodes=41) \n",
      " [0.99576271 0.99411765 1.         1.         1.         1.\n",
      " 1.        ]\n"
     ]
    },
    {
     "name": "stderr",
     "output_type": "stream",
     "text": [
      "C:\\miniconda3\\envs\\Python\\lib\\site-packages\\sklearn\\utils\\validation.py:1111: DataConversionWarning: A column-vector y was passed when a 1d array was expected. Please change the shape of y to (n_samples, ), for example using ravel().\n",
      "  y = column_or_1d(y, warn=True)\n"
     ]
    },
    {
     "name": "stdout",
     "output_type": "stream",
     "text": [
      "HistGradientBoostingClassifier(max_iter=300, max_leaf_nodes=41) \n",
      " [0.99561404 1.         1.         1.         0.97402597 0.99401198\n",
      " 1.        ]\n"
     ]
    },
    {
     "name": "stderr",
     "output_type": "stream",
     "text": [
      "C:\\miniconda3\\envs\\Python\\lib\\site-packages\\sklearn\\utils\\validation.py:1111: DataConversionWarning: A column-vector y was passed when a 1d array was expected. Please change the shape of y to (n_samples, ), for example using ravel().\n",
      "  y = column_or_1d(y, warn=True)\n"
     ]
    },
    {
     "name": "stdout",
     "output_type": "stream",
     "text": [
      "HistGradientBoostingClassifier(max_iter=300, max_leaf_nodes=41) \n",
      " [0.98       1.         1.         1.         1.         1.\n",
      " 0.99065421]\n"
     ]
    },
    {
     "name": "stderr",
     "output_type": "stream",
     "text": [
      "C:\\miniconda3\\envs\\Python\\lib\\site-packages\\sklearn\\utils\\validation.py:1111: DataConversionWarning: A column-vector y was passed when a 1d array was expected. Please change the shape of y to (n_samples, ), for example using ravel().\n",
      "  y = column_or_1d(y, warn=True)\n"
     ]
    },
    {
     "name": "stdout",
     "output_type": "stream",
     "text": [
      "HistGradientBoostingClassifier(max_iter=300, max_leaf_nodes=41) \n",
      " [0.99615385 1.         0.98522167 1.         1.         1.\n",
      " 0.98623853]\n"
     ]
    },
    {
     "data": {
      "text/html": [
       "<div>\n",
       "<style scoped>\n",
       "    .dataframe tbody tr th:only-of-type {\n",
       "        vertical-align: middle;\n",
       "    }\n",
       "\n",
       "    .dataframe tbody tr th {\n",
       "        vertical-align: top;\n",
       "    }\n",
       "\n",
       "    .dataframe thead th {\n",
       "        text-align: right;\n",
       "    }\n",
       "</style>\n",
       "<table border=\"1\" class=\"dataframe\">\n",
       "  <thead>\n",
       "    <tr style=\"text-align: right;\">\n",
       "      <th></th>\n",
       "      <th>.geo</th>\n",
       "      <th>.latit</th>\n",
       "      <th>.long</th>\n",
       "      <th>area</th>\n",
       "      <th>crop</th>\n",
       "      <th>id</th>\n",
       "      <th>nd_mean_2021-04-15</th>\n",
       "      <th>nd_mean_2021-04-16</th>\n",
       "      <th>nd_mean_2021-04-18</th>\n",
       "      <th>nd_mean_2021-04-19</th>\n",
       "      <th>...</th>\n",
       "      <th>nd_mean_2021-07-29</th>\n",
       "      <th>nd_mean_2021-07-31</th>\n",
       "      <th>nd_mean_2021-08-01</th>\n",
       "      <th>nd_mean_2021-08-07</th>\n",
       "      <th>nd_mean_2021-08-10</th>\n",
       "      <th>nd_mean_2021-08-11</th>\n",
       "      <th>nd_mean_2021-08-12</th>\n",
       "      <th>nd_mean_2021-08-13</th>\n",
       "      <th>nd_mean_2021-08-23</th>\n",
       "      <th>nd_mean_2021-08-27</th>\n",
       "    </tr>\n",
       "  </thead>\n",
       "  <tbody>\n",
       "    <tr>\n",
       "      <th>0</th>\n",
       "      <td>{\"type\":\"Polygon\",\"coordinates\":[[[42.49107269...</td>\n",
       "      <td>51.412815</td>\n",
       "      <td>42.500303</td>\n",
       "      <td>20</td>\n",
       "      <td>3</td>\n",
       "      <td>3536</td>\n",
       "      <td>0.187150</td>\n",
       "      <td>0.072846</td>\n",
       "      <td>0.262300</td>\n",
       "      <td>0.261778</td>\n",
       "      <td>...</td>\n",
       "      <td>0.727516</td>\n",
       "      <td>0.000000</td>\n",
       "      <td>0.754859</td>\n",
       "      <td>0.000000</td>\n",
       "      <td>0.030883</td>\n",
       "      <td>0.000000</td>\n",
       "      <td>0.658016</td>\n",
       "      <td>0.126832</td>\n",
       "      <td>0.034858</td>\n",
       "      <td>0.614770</td>\n",
       "    </tr>\n",
       "    <tr>\n",
       "      <th>1</th>\n",
       "      <td>{\"type\":\"Polygon\",\"coordinates\":[[[50.25545110...</td>\n",
       "      <td>56.606045</td>\n",
       "      <td>50.265608</td>\n",
       "      <td>45</td>\n",
       "      <td>4</td>\n",
       "      <td>3739</td>\n",
       "      <td>0.245285</td>\n",
       "      <td>0.332928</td>\n",
       "      <td>0.349133</td>\n",
       "      <td>0.287182</td>\n",
       "      <td>...</td>\n",
       "      <td>0.666918</td>\n",
       "      <td>0.089721</td>\n",
       "      <td>0.706226</td>\n",
       "      <td>0.184231</td>\n",
       "      <td>0.062582</td>\n",
       "      <td>0.618475</td>\n",
       "      <td>0.601685</td>\n",
       "      <td>0.174914</td>\n",
       "      <td>0.000000</td>\n",
       "      <td>0.179612</td>\n",
       "    </tr>\n",
       "    <tr>\n",
       "      <th>2</th>\n",
       "      <td>{\"type\":\"Polygon\",\"coordinates\":[[[37.99698998...</td>\n",
       "      <td>53.837187</td>\n",
       "      <td>38.003231</td>\n",
       "      <td>28</td>\n",
       "      <td>2</td>\n",
       "      <td>1294</td>\n",
       "      <td>0.006391</td>\n",
       "      <td>0.013679</td>\n",
       "      <td>0.000000</td>\n",
       "      <td>0.007055</td>\n",
       "      <td>...</td>\n",
       "      <td>0.321827</td>\n",
       "      <td>0.411168</td>\n",
       "      <td>0.000000</td>\n",
       "      <td>0.357296</td>\n",
       "      <td>0.045370</td>\n",
       "      <td>0.172080</td>\n",
       "      <td>0.000000</td>\n",
       "      <td>0.090607</td>\n",
       "      <td>0.000000</td>\n",
       "      <td>0.054127</td>\n",
       "    </tr>\n",
       "    <tr>\n",
       "      <th>3</th>\n",
       "      <td>{\"type\":\"Polygon\",\"coordinates\":[[[44.72154181...</td>\n",
       "      <td>55.935536</td>\n",
       "      <td>44.727709</td>\n",
       "      <td>19</td>\n",
       "      <td>5</td>\n",
       "      <td>2859</td>\n",
       "      <td>0.293425</td>\n",
       "      <td>0.105976</td>\n",
       "      <td>0.318047</td>\n",
       "      <td>0.052500</td>\n",
       "      <td>...</td>\n",
       "      <td>0.000000</td>\n",
       "      <td>0.055983</td>\n",
       "      <td>0.152193</td>\n",
       "      <td>0.060656</td>\n",
       "      <td>0.352723</td>\n",
       "      <td>0.379196</td>\n",
       "      <td>0.327025</td>\n",
       "      <td>0.073492</td>\n",
       "      <td>0.061776</td>\n",
       "      <td>0.378900</td>\n",
       "    </tr>\n",
       "    <tr>\n",
       "      <th>4</th>\n",
       "      <td>{\"type\":\"Polygon\",\"coordinates\":[[[34.77829934...</td>\n",
       "      <td>52.907252</td>\n",
       "      <td>34.783534</td>\n",
       "      <td>33</td>\n",
       "      <td>4</td>\n",
       "      <td>3685</td>\n",
       "      <td>0.027983</td>\n",
       "      <td>0.130885</td>\n",
       "      <td>0.117227</td>\n",
       "      <td>0.063492</td>\n",
       "      <td>...</td>\n",
       "      <td>0.833694</td>\n",
       "      <td>0.611108</td>\n",
       "      <td>0.772962</td>\n",
       "      <td>0.000000</td>\n",
       "      <td>0.080592</td>\n",
       "      <td>0.000000</td>\n",
       "      <td>0.055220</td>\n",
       "      <td>0.157676</td>\n",
       "      <td>0.022251</td>\n",
       "      <td>0.012048</td>\n",
       "    </tr>\n",
       "    <tr>\n",
       "      <th>...</th>\n",
       "      <td>...</td>\n",
       "      <td>...</td>\n",
       "      <td>...</td>\n",
       "      <td>...</td>\n",
       "      <td>...</td>\n",
       "      <td>...</td>\n",
       "      <td>...</td>\n",
       "      <td>...</td>\n",
       "      <td>...</td>\n",
       "      <td>...</td>\n",
       "      <td>...</td>\n",
       "      <td>...</td>\n",
       "      <td>...</td>\n",
       "      <td>...</td>\n",
       "      <td>...</td>\n",
       "      <td>...</td>\n",
       "      <td>...</td>\n",
       "      <td>...</td>\n",
       "      <td>...</td>\n",
       "      <td>...</td>\n",
       "      <td>...</td>\n",
       "    </tr>\n",
       "    <tr>\n",
       "      <th>5677</th>\n",
       "      <td>{\"type\":\"Polygon\",\"coordinates\":[[[41.66286600...</td>\n",
       "      <td>53.873194</td>\n",
       "      <td>41.667172</td>\n",
       "      <td>11</td>\n",
       "      <td>2</td>\n",
       "      <td>3228</td>\n",
       "      <td>0.126039</td>\n",
       "      <td>0.216415</td>\n",
       "      <td>0.055117</td>\n",
       "      <td>0.000000</td>\n",
       "      <td>...</td>\n",
       "      <td>0.518057</td>\n",
       "      <td>0.648714</td>\n",
       "      <td>0.148789</td>\n",
       "      <td>0.238772</td>\n",
       "      <td>0.026477</td>\n",
       "      <td>0.044045</td>\n",
       "      <td>0.024325</td>\n",
       "      <td>0.057502</td>\n",
       "      <td>0.281476</td>\n",
       "      <td>0.008331</td>\n",
       "    </tr>\n",
       "    <tr>\n",
       "      <th>5678</th>\n",
       "      <td>{\"type\":\"Polygon\",\"coordinates\":[[[52.86918895...</td>\n",
       "      <td>55.519193</td>\n",
       "      <td>52.873871</td>\n",
       "      <td>20</td>\n",
       "      <td>6</td>\n",
       "      <td>5512</td>\n",
       "      <td>0.095430</td>\n",
       "      <td>0.057648</td>\n",
       "      <td>0.005054</td>\n",
       "      <td>0.265181</td>\n",
       "      <td>...</td>\n",
       "      <td>0.596380</td>\n",
       "      <td>0.124434</td>\n",
       "      <td>0.459071</td>\n",
       "      <td>0.000000</td>\n",
       "      <td>0.000000</td>\n",
       "      <td>0.020646</td>\n",
       "      <td>0.529615</td>\n",
       "      <td>0.074529</td>\n",
       "      <td>0.117315</td>\n",
       "      <td>0.170634</td>\n",
       "    </tr>\n",
       "    <tr>\n",
       "      <th>5679</th>\n",
       "      <td>{\"type\":\"Polygon\",\"coordinates\":[[[39.83557101...</td>\n",
       "      <td>52.417742</td>\n",
       "      <td>39.841980</td>\n",
       "      <td>86</td>\n",
       "      <td>0</td>\n",
       "      <td>4946</td>\n",
       "      <td>0.216283</td>\n",
       "      <td>0.148546</td>\n",
       "      <td>0.077047</td>\n",
       "      <td>0.202994</td>\n",
       "      <td>...</td>\n",
       "      <td>0.726082</td>\n",
       "      <td>0.755649</td>\n",
       "      <td>0.611095</td>\n",
       "      <td>0.591081</td>\n",
       "      <td>0.002152</td>\n",
       "      <td>0.000000</td>\n",
       "      <td>0.030503</td>\n",
       "      <td>0.000000</td>\n",
       "      <td>0.173605</td>\n",
       "      <td>0.106607</td>\n",
       "    </tr>\n",
       "    <tr>\n",
       "      <th>5680</th>\n",
       "      <td>{\"type\":\"Polygon\",\"coordinates\":[[[36.57005088...</td>\n",
       "      <td>52.386253</td>\n",
       "      <td>36.574536</td>\n",
       "      <td>16</td>\n",
       "      <td>6</td>\n",
       "      <td>2816</td>\n",
       "      <td>0.226987</td>\n",
       "      <td>0.000000</td>\n",
       "      <td>0.054660</td>\n",
       "      <td>0.061964</td>\n",
       "      <td>...</td>\n",
       "      <td>0.431980</td>\n",
       "      <td>0.806340</td>\n",
       "      <td>0.591332</td>\n",
       "      <td>0.077891</td>\n",
       "      <td>0.175456</td>\n",
       "      <td>0.120139</td>\n",
       "      <td>0.749090</td>\n",
       "      <td>0.016845</td>\n",
       "      <td>0.000000</td>\n",
       "      <td>0.000000</td>\n",
       "    </tr>\n",
       "    <tr>\n",
       "      <th>5681</th>\n",
       "      <td>{\"type\":\"Polygon\",\"coordinates\":[[[47.66181062...</td>\n",
       "      <td>54.842119</td>\n",
       "      <td>47.668143</td>\n",
       "      <td>10</td>\n",
       "      <td>6</td>\n",
       "      <td>2975</td>\n",
       "      <td>0.240949</td>\n",
       "      <td>0.153879</td>\n",
       "      <td>0.212872</td>\n",
       "      <td>0.231048</td>\n",
       "      <td>...</td>\n",
       "      <td>0.004718</td>\n",
       "      <td>0.194091</td>\n",
       "      <td>0.512544</td>\n",
       "      <td>0.448195</td>\n",
       "      <td>0.004690</td>\n",
       "      <td>0.077981</td>\n",
       "      <td>0.441089</td>\n",
       "      <td>0.145188</td>\n",
       "      <td>0.108917</td>\n",
       "      <td>0.213615</td>\n",
       "    </tr>\n",
       "  </tbody>\n",
       "</table>\n",
       "<p>5682 rows × 76 columns</p>\n",
       "</div>"
      ],
      "text/plain": [
       "                                                   .geo     .latit      .long  \\\n",
       "0     {\"type\":\"Polygon\",\"coordinates\":[[[42.49107269...  51.412815  42.500303   \n",
       "1     {\"type\":\"Polygon\",\"coordinates\":[[[50.25545110...  56.606045  50.265608   \n",
       "2     {\"type\":\"Polygon\",\"coordinates\":[[[37.99698998...  53.837187  38.003231   \n",
       "3     {\"type\":\"Polygon\",\"coordinates\":[[[44.72154181...  55.935536  44.727709   \n",
       "4     {\"type\":\"Polygon\",\"coordinates\":[[[34.77829934...  52.907252  34.783534   \n",
       "...                                                 ...        ...        ...   \n",
       "5677  {\"type\":\"Polygon\",\"coordinates\":[[[41.66286600...  53.873194  41.667172   \n",
       "5678  {\"type\":\"Polygon\",\"coordinates\":[[[52.86918895...  55.519193  52.873871   \n",
       "5679  {\"type\":\"Polygon\",\"coordinates\":[[[39.83557101...  52.417742  39.841980   \n",
       "5680  {\"type\":\"Polygon\",\"coordinates\":[[[36.57005088...  52.386253  36.574536   \n",
       "5681  {\"type\":\"Polygon\",\"coordinates\":[[[47.66181062...  54.842119  47.668143   \n",
       "\n",
       "      area  crop    id  nd_mean_2021-04-15  nd_mean_2021-04-16  \\\n",
       "0       20     3  3536            0.187150            0.072846   \n",
       "1       45     4  3739            0.245285            0.332928   \n",
       "2       28     2  1294            0.006391            0.013679   \n",
       "3       19     5  2859            0.293425            0.105976   \n",
       "4       33     4  3685            0.027983            0.130885   \n",
       "...    ...   ...   ...                 ...                 ...   \n",
       "5677    11     2  3228            0.126039            0.216415   \n",
       "5678    20     6  5512            0.095430            0.057648   \n",
       "5679    86     0  4946            0.216283            0.148546   \n",
       "5680    16     6  2816            0.226987            0.000000   \n",
       "5681    10     6  2975            0.240949            0.153879   \n",
       "\n",
       "      nd_mean_2021-04-18  nd_mean_2021-04-19  ...  nd_mean_2021-07-29  \\\n",
       "0               0.262300            0.261778  ...            0.727516   \n",
       "1               0.349133            0.287182  ...            0.666918   \n",
       "2               0.000000            0.007055  ...            0.321827   \n",
       "3               0.318047            0.052500  ...            0.000000   \n",
       "4               0.117227            0.063492  ...            0.833694   \n",
       "...                  ...                 ...  ...                 ...   \n",
       "5677            0.055117            0.000000  ...            0.518057   \n",
       "5678            0.005054            0.265181  ...            0.596380   \n",
       "5679            0.077047            0.202994  ...            0.726082   \n",
       "5680            0.054660            0.061964  ...            0.431980   \n",
       "5681            0.212872            0.231048  ...            0.004718   \n",
       "\n",
       "      nd_mean_2021-07-31  nd_mean_2021-08-01  nd_mean_2021-08-07  \\\n",
       "0               0.000000            0.754859            0.000000   \n",
       "1               0.089721            0.706226            0.184231   \n",
       "2               0.411168            0.000000            0.357296   \n",
       "3               0.055983            0.152193            0.060656   \n",
       "4               0.611108            0.772962            0.000000   \n",
       "...                  ...                 ...                 ...   \n",
       "5677            0.648714            0.148789            0.238772   \n",
       "5678            0.124434            0.459071            0.000000   \n",
       "5679            0.755649            0.611095            0.591081   \n",
       "5680            0.806340            0.591332            0.077891   \n",
       "5681            0.194091            0.512544            0.448195   \n",
       "\n",
       "      nd_mean_2021-08-10  nd_mean_2021-08-11  nd_mean_2021-08-12  \\\n",
       "0               0.030883            0.000000            0.658016   \n",
       "1               0.062582            0.618475            0.601685   \n",
       "2               0.045370            0.172080            0.000000   \n",
       "3               0.352723            0.379196            0.327025   \n",
       "4               0.080592            0.000000            0.055220   \n",
       "...                  ...                 ...                 ...   \n",
       "5677            0.026477            0.044045            0.024325   \n",
       "5678            0.000000            0.020646            0.529615   \n",
       "5679            0.002152            0.000000            0.030503   \n",
       "5680            0.175456            0.120139            0.749090   \n",
       "5681            0.004690            0.077981            0.441089   \n",
       "\n",
       "      nd_mean_2021-08-13  nd_mean_2021-08-23  nd_mean_2021-08-27  \n",
       "0               0.126832            0.034858            0.614770  \n",
       "1               0.174914            0.000000            0.179612  \n",
       "2               0.090607            0.000000            0.054127  \n",
       "3               0.073492            0.061776            0.378900  \n",
       "4               0.157676            0.022251            0.012048  \n",
       "...                  ...                 ...                 ...  \n",
       "5677            0.057502            0.281476            0.008331  \n",
       "5678            0.074529            0.117315            0.170634  \n",
       "5679            0.000000            0.173605            0.106607  \n",
       "5680            0.016845            0.000000            0.000000  \n",
       "5681            0.145188            0.108917            0.213615  \n",
       "\n",
       "[5682 rows x 76 columns]"
      ]
     },
     "execution_count": 486,
     "metadata": {},
     "output_type": "execute_result"
    }
   ],
   "source": [
    "#adding samples which are wrogly classified\n",
    "df1 = df#.reindex(sorted(df.columns), axis=1)\n",
    "ind = []\n",
    "for i in range(3):\n",
    "    models, idx = diff_samples_add(df1)\n",
    "    ind.append(idx)\n",
    "    df1 = pd.concat([df1, df1.iloc[idx,:],df1.iloc[idx,:],df1.iloc[idx,:],df1.iloc[idx,:]], axis = 0, ignore_index = True)\n",
    "df1\n",
    "\n",
    "#results of redictions show better predictions for crop in [1,3,5] and much worse in [0,2,4,6]\n",
    "\n",
    "\n"
   ]
  },
  {
   "cell_type": "code",
   "execution_count": 498,
   "metadata": {},
   "outputs": [
    {
     "name": "stdout",
     "output_type": "stream",
     "text": [
      "7\n",
      "6\n"
     ]
    }
   ],
   "source": [
    "#remove 0 and replace with NaN as HGBC works better with NAns\n",
    "df1 = filter_0_nan(df1) #\n",
    "df_test = filter_0_nan(df_test)#"
   ]
  },
  {
   "cell_type": "code",
   "execution_count": 508,
   "metadata": {},
   "outputs": [
    {
     "data": {
      "text/plain": [
       "Index(['.geo', '.latit', '.long', 'area', 'crop', 'id', 'nd_mean_2021-04-15',\n",
       "       'nd_mean_2021-04-16', 'nd_mean_2021-04-18', 'nd_mean_2021-04-19',\n",
       "       'nd_mean_2021-04-20', 'nd_mean_2021-04-22', 'nd_mean_2021-04-23',\n",
       "       'nd_mean_2021-04-25', 'nd_mean_2021-04-26', 'nd_mean_2021-04-27',\n",
       "       'nd_mean_2021-04-28', 'nd_mean_2021-04-29', 'nd_mean_2021-04-30',\n",
       "       'nd_mean_2021-05-01', 'nd_mean_2021-05-02', 'nd_mean_2021-05-03',\n",
       "       'nd_mean_2021-05-04', 'nd_mean_2021-05-07', 'nd_mean_2021-05-08',\n",
       "       'nd_mean_2021-05-09', 'nd_mean_2021-05-10', 'nd_mean_2021-05-15',\n",
       "       'nd_mean_2021-05-16', 'nd_mean_2021-05-17', 'nd_mean_2021-05-19',\n",
       "       'nd_mean_2021-05-20', 'nd_mean_2021-05-21', 'nd_mean_2021-05-24',\n",
       "       'nd_mean_2021-05-26', 'nd_mean_2021-05-27', 'nd_mean_2021-05-29',\n",
       "       'nd_mean_2021-06-02', 'nd_mean_2021-06-03', 'nd_mean_2021-06-04',\n",
       "       'nd_mean_2021-06-05', 'nd_mean_2021-06-06', 'nd_mean_2021-06-07',\n",
       "       'nd_mean_2021-06-09', 'nd_mean_2021-06-10', 'nd_mean_2021-06-12',\n",
       "       'nd_mean_2021-06-13', 'nd_mean_2021-06-16', 'nd_mean_2021-06-18',\n",
       "       'nd_mean_2021-06-19', 'nd_mean_2021-06-20', 'nd_mean_2021-06-22',\n",
       "       'nd_mean_2021-06-25', 'nd_mean_2021-06-27', 'nd_mean_2021-06-28',\n",
       "       'nd_mean_2021-07-04', 'nd_mean_2021-07-05', 'nd_mean_2021-07-07',\n",
       "       'nd_mean_2021-07-08', 'nd_mean_2021-07-09', 'nd_mean_2021-07-13',\n",
       "       'nd_mean_2021-07-15', 'nd_mean_2021-07-17', 'nd_mean_2021-07-20',\n",
       "       'nd_mean_2021-07-26', 'nd_mean_2021-07-27', 'nd_mean_2021-07-29',\n",
       "       'nd_mean_2021-07-31', 'nd_mean_2021-08-01', 'nd_mean_2021-08-07',\n",
       "       'nd_mean_2021-08-10', 'nd_mean_2021-08-11', 'nd_mean_2021-08-12',\n",
       "       'nd_mean_2021-08-13', 'nd_mean_2021-08-23', 'nd_mean_2021-08-27'],\n",
       "      dtype='object')"
      ]
     },
     "execution_count": 508,
     "metadata": {},
     "output_type": "execute_result"
    }
   ],
   "source": [
    "df1.columns"
   ]
  },
  {
   "cell_type": "code",
   "execution_count": 509,
   "metadata": {},
   "outputs": [],
   "source": [
    "X = df1.drop(['id','.geo',\"crop\", 'area'], axis = 1)#\"id\", '.long_full', '.latit_full', '7', 'index'\n",
    "y = df1[\"crop\"]\n",
    "X_train, X_test, y_train, y_test = train_test_split(X, y, test_size=0.2, random_state=1)"
   ]
  },
  {
   "cell_type": "code",
   "execution_count": 510,
   "metadata": {},
   "outputs": [],
   "source": [
    "X_val = df_test.drop(['id','.geo', 'area'], axis = 1)#.drop(ddf.index,axis=0), 'crop'"
   ]
  },
  {
   "cell_type": "code",
   "execution_count": 514,
   "metadata": {},
   "outputs": [
    {
     "data": {
      "text/plain": [
       "(2071, 72)"
      ]
     },
     "execution_count": 514,
     "metadata": {},
     "output_type": "execute_result"
    }
   ],
   "source": [
    "X_val.shape"
   ]
  },
  {
   "cell_type": "code",
   "execution_count": 515,
   "metadata": {},
   "outputs": [
    {
     "name": "stdout",
     "output_type": "stream",
     "text": [
      "HistGradientBoostingClassifier(l2_regularization=0.1, max_iter=200,\n",
      "                               max_leaf_nodes=45, random_state=42) \n",
      " [1.         1.         1.         1.         0.9947644  1.\n",
      " 0.98947368]\n",
      "HistGradientBoostingClassifier(l2_regularization=0.1, max_iter=200,\n",
      "                               max_leaf_nodes=45, random_state=42) \n",
      " 0.9977482974451836\n"
     ]
    }
   ],
   "source": [
    "#train to predict good/bad class\n",
    "clf0 = HistGradientBoostingClassifier(max_iter=200, max_leaf_nodes=45, random_state = 42, l2_regularization = 0.1, learning_rate = 0.1).fit(X_train, y_train)\n",
    "clf = HistGradientBoostingClassifier(max_iter=200, max_leaf_nodes=41, random_state = 42, l2_regularization = 0.1).fit(X, y)\n",
    "pred0 = clf0.predict(X_test)\n",
    "pred2 = clf.predict(X_val)\n",
    "print(clf0,'\\n',recall_score(y_test, pred0, average=None, zero_division=0))\n",
    "print(clf0,'\\n',recall_score(y_test, pred0, average=\"macro\", zero_division=0))"
   ]
  },
  {
   "cell_type": "code",
   "execution_count": 517,
   "metadata": {},
   "outputs": [],
   "source": [
    "df_test['crop'] = pred2\n",
    "#df = pd.concat([df1"
   ]
  },
  {
   "cell_type": "code",
   "execution_count": 518,
   "metadata": {},
   "outputs": [],
   "source": [
    "df_submission = pd.read_csv(\"sample_solution.csv\")\n",
    "df_submission.crop = pred2\n",
    "df_submission.to_csv(\"submission.csv\", index=False)"
   ]
  },
  {
   "cell_type": "code",
   "execution_count": null,
   "metadata": {},
   "outputs": [],
   "source": []
  },
  {
   "cell_type": "code",
   "execution_count": null,
   "metadata": {},
   "outputs": [],
   "source": []
  },
  {
   "cell_type": "code",
   "execution_count": null,
   "metadata": {},
   "outputs": [],
   "source": []
  },
  {
   "cell_type": "code",
   "execution_count": null,
   "metadata": {},
   "outputs": [],
   "source": []
  }
 ],
 "metadata": {
  "colab": {
   "provenance": []
  },
  "kernelspec": {
   "display_name": "Python 3 (ipykernel)",
   "language": "python",
   "name": "python3"
  },
  "language_info": {
   "codemirror_mode": {
    "name": "ipython",
    "version": 3
   },
   "file_extension": ".py",
   "mimetype": "text/x-python",
   "name": "python",
   "nbconvert_exporter": "python",
   "pygments_lexer": "ipython3",
   "version": "3.8.13"
  }
 },
 "nbformat": 4,
 "nbformat_minor": 1
}
